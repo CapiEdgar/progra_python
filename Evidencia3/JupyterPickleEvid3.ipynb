{
 "cells": [
  {
   "cell_type": "code",
   "execution_count": 1,
   "id": "3a22c92a-e1e8-46ff-b0c3-b37140f3159b",
   "metadata": {},
   "outputs": [
    {
     "name": "stdout",
     "output_type": "stream",
     "text": [
      "Objeto guardado en mi_objeto.pickle\n",
      "Objeto recuperado: {'nombre': 'Edgar', 'edad': 19, 'ciudad': 'Monterrey'}\n"
     ]
    }
   ],
   "source": [
    "import pickle\n",
    "\n",
    "# Objeto a serializar\n",
    "mi_objeto = {\n",
    "    'nombre': 'Edgar',\n",
    "    'edad': 19,\n",
    "    'ciudad': 'Monterrey'\n",
    "}\n",
    "\n",
    "# Función para serializar y guardar en un archivo\n",
    "def guardar_objeto(objeto, archivo):\n",
    "    try:\n",
    "        with open(archivo, 'wb') as f:\n",
    "            pickle.dump(objeto, f)\n",
    "        print(f'Objeto guardado en {archivo}')\n",
    "    except Exception as e:\n",
    "        print(f'Error al guardar el objeto: {e}')\n",
    "\n",
    "# Función para leer el archivo y deserializar el objeto\n",
    "def leer_objeto(archivo):\n",
    "    try:\n",
    "        with open(archivo, 'rb') as f:\n",
    "            objeto_recuperado = pickle.load(f)\n",
    "        print(f'Objeto recuperado: {objeto_recuperado}')\n",
    "    except Exception as e:\n",
    "        print(f'Error al leer el objeto: {e}')\n",
    "\n",
    "# Guardar el objeto en un archivo\n",
    "guardar_objeto(mi_objeto, 'mi_objeto.pickle')\n",
    "\n",
    "# Leer el archivo y recuperar el objeto\n",
    "leer_objeto('mi_objeto.pickle')\n"
   ]
  },
  {
   "cell_type": "code",
   "execution_count": null,
   "id": "a1fb77c7-a7d1-4313-a8c6-eacd8b09ea7e",
   "metadata": {},
   "outputs": [],
   "source": []
  }
 ],
 "metadata": {
  "kernelspec": {
   "display_name": "Python 3 (ipykernel)",
   "language": "python",
   "name": "python3"
  },
  "language_info": {
   "codemirror_mode": {
    "name": "ipython",
    "version": 3
   },
   "file_extension": ".py",
   "mimetype": "text/x-python",
   "name": "python",
   "nbconvert_exporter": "python",
   "pygments_lexer": "ipython3",
   "version": "3.12.0"
  }
 },
 "nbformat": 4,
 "nbformat_minor": 5
}
