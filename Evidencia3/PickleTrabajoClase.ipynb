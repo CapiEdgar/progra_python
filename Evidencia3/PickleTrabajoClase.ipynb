{
 "cells": [
  {
   "cell_type": "code",
   "execution_count": 3,
   "id": "69bd30db-b143-4d36-aed4-f22ec81c90dc",
   "metadata": {},
   "outputs": [],
   "source": [
    "# Definición de datos\n",
    "\n",
    "eventos={\n",
    "    1:\"Evento 1\",\n",
    "    2:\"Evento 2\"\n",
    "}\n",
    "\n",
    "asistentes={\n",
    "    1:\"Asistente 1\",\n",
    "    2:\"Asistente 2\",\n",
    "    3:\"Asistente 3\"\n",
    "}\n",
    "\n",
    "registro={\n",
    "    1:[1,1],\n",
    "    2:[2,1],\n",
    "    3:[3,1],\n",
    "    4:[1,2],\n",
    "    5:[2,2]\n",
    "}\n",
    "\n",
    "repositorio=[eventos,asistentes,registro]"
   ]
  },
  {
   "cell_type": "code",
   "execution_count": 5,
   "id": "ecfdbd69-cf7e-4990-b8a1-d6ac5b14ccf1",
   "metadata": {},
   "outputs": [
    {
     "name": "stdout",
     "output_type": "stream",
     "text": [
      "b'\\x80\\x04\\x95\\x8d\\x00\\x00\\x00\\x00\\x00\\x00\\x00]\\x94(}\\x94(K\\x01\\x8c\\x08Evento 1\\x94K\\x02\\x8c\\x08Evento 2\\x94u}\\x94(K\\x01\\x8c\\x0bAsistente 1\\x94K\\x02\\x8c\\x0bAsistente 2\\x94K\\x03\\x8c\\x0bAsistente 3\\x94u}\\x94(K\\x01]\\x94(K\\x01K\\x01eK\\x02]\\x94(K\\x02K\\x01eK\\x03]\\x94(K\\x03K\\x01eK\\x04]\\x94(K\\x01K\\x02eK\\x05]\\x94(K\\x02K\\x02eue.'\n",
      "True\n"
     ]
    }
   ],
   "source": [
    "# Librería para serializar json\n",
    "import pickle\n",
    "\n",
    "repositorio_pickle = pickle.dumps(repositorio)\n",
    "\n",
    "print(repositorio_pickle)\n",
    "\n",
    "nuevo_objeto=pickle.loads(repositorio_pickle)\n",
    "\n",
    "print(repositorio==nuevo_objeto)"
   ]
  },
  {
   "cell_type": "code",
   "execution_count": 6,
   "id": "37a85840-1c30-4f3e-8375-a565b64d1171",
   "metadata": {},
   "outputs": [],
   "source": [
    "import pickle\n",
    "import os\n",
    "\n",
    "class archivador:\n",
    "    objeto=''\n",
    "    archivo='sin_nombre.pickle'\n",
    "    respaldar=False\n",
    "\n",
    "    def __init__(self,objeto='',archivo='',respaldar=False):\n",
    "        self.objeto=objeto\n",
    "        self.archivo=archivo\n",
    "        self.respaldar=respaldar\n",
    "\n",
    "    def guardar_archivo(self,\n",
    "                        objeto='',\n",
    "                        archivo='sin_nombre.pickle',\n",
    "                        respaldar=False):\n",
    "        try:\n",
    "            if self.respaldar:\n",
    "                nombre_bak=self.archivo.split('.')[0]+'.bak'\n",
    "                if os.path.exists(archivo):\n",
    "                    if (os.path.exists(nombre_bak)):\n",
    "                        os.remove(nombre_bak)\n",
    "                        os.rename(archivo,nombre_bak)\n",
    "            # Se genera la versión serializada del objeto.\n",
    "            with open(archivo,\"wb+\") as f:\n",
    "                pickle.dump(objeto,f)\n",
    "        except:\n",
    "            # Si algo sale mal, retorna False (no fue posible)\n",
    "            # y un str vacío.\n",
    "            return False\n",
    "        # Si pudo hacer la operación, retorna True.\n",
    "        return True\n",
    "\n",
    "    def leer_archivo(self,archivo):\n",
    "        try:\n",
    "            with open(archivo,\"rb\") as f:\n",
    "                datos_recuperados=pickle.load(f)\n",
    "        except:\n",
    "            return False,''\n",
    "        # Si todo salió bien, retorna verdadero, y los datos.\n",
    "        return True, datos_recuperados\n"
   ]
  },
  {
   "cell_type": "code",
   "execution_count": 13,
   "id": "19002db9-e0f0-4197-93e7-cfdd48922692",
   "metadata": {
    "scrolled": true
   },
   "outputs": [
    {
     "ename": "IndexError",
     "evalue": "string index out of range",
     "output_type": "error",
     "traceback": [
      "\u001b[1;31m---------------------------------------------------------------------------\u001b[0m",
      "\u001b[1;31mIndexError\u001b[0m                                Traceback (most recent call last)",
      "Cell \u001b[1;32mIn[13], line 11\u001b[0m\n\u001b[0;32m      7\u001b[0m resultado, sin_modificar\u001b[38;5;241m=\u001b[39mtrabajo\u001b[38;5;241m.\u001b[39mleer_archivo(\u001b[38;5;124m'\u001b[39m\u001b[38;5;124mrepositorio.pickle\u001b[39m\u001b[38;5;124m'\u001b[39m)\n\u001b[0;32m     10\u001b[0m \u001b[38;5;66;03m# Modificar datos.\u001b[39;00m\n\u001b[1;32m---> 11\u001b[0m \u001b[38;5;28;01mif\u001b[39;00m \u001b[38;5;241m3\u001b[39m \u001b[38;5;129;01min\u001b[39;00m \u001b[43mrepositorio\u001b[49m\u001b[43m[\u001b[49m\u001b[38;5;241;43m0\u001b[39;49m\u001b[43m]\u001b[49m:\n\u001b[0;32m     12\u001b[0m     repositorio[\u001b[38;5;241m0\u001b[39m][\u001b[38;5;241m3\u001b[39m] \u001b[38;5;241m=\u001b[39m \u001b[38;5;124m\"\u001b[39m\u001b[38;5;124mEvento 3\u001b[39m\u001b[38;5;124m\"\u001b[39m\n\u001b[0;32m     13\u001b[0m \u001b[38;5;28;01melse\u001b[39;00m:\n",
      "\u001b[1;31mIndexError\u001b[0m: string index out of range"
     ]
    }
   ],
   "source": [
    "# Generar una instancia de la clase\n",
    "trabajo=archivador()\n",
    "\n",
    "\n",
    "# Leo el archivo.\n",
    "resultado, repositorio=trabajo.leer_archivo('repositorio.pickle')\n",
    "resultado, sin_modificar=trabajo.leer_archivo('repositorio.pickle')\n",
    "\n",
    "\n",
    "# Modificar datos.\n",
    "if 3 in repositorio[0]:\n",
    "    repositorio[0][3] = \"Evento 3\"\n",
    "else:\n",
    "    print(\"El evento 3 no existe en el repositorio de eventos.\")\n",
    "\n",
    "print(repositorio)\n",
    "print(sin_modificar)"
   ]
  },
  {
   "cell_type": "code",
   "execution_count": 14,
   "id": "81ed742b-83b8-4654-9fd1-bd1ac4f963dd",
   "metadata": {},
   "outputs": [
    {
     "data": {
      "text/plain": [
       "True"
      ]
     },
     "execution_count": 14,
     "metadata": {},
     "output_type": "execute_result"
    }
   ],
   "source": [
    "# Ejecutar el método guardar_archivo()\n",
    "trabajo.guardar_archivo(repositorio,'repositorio.pickle',False)"
   ]
  },
  {
   "cell_type": "code",
   "execution_count": 15,
   "id": "d1379b34-7869-46c4-9555-601a62c41dcf",
   "metadata": {},
   "outputs": [
    {
     "name": "stdout",
     "output_type": "stream",
     "text": [
      "archivo.bak\n"
     ]
    }
   ],
   "source": [
    "archivo='archivo.doc'\n",
    "nombre_bak=archivo.split('.')[0]+'.bak'\n",
    "print(nombre_bak)"
   ]
  }
 ],
 "metadata": {
  "kernelspec": {
   "display_name": "Python 3 (ipykernel)",
   "language": "python",
   "name": "python3"
  },
  "language_info": {
   "codemirror_mode": {
    "name": "ipython",
    "version": 3
   },
   "file_extension": ".py",
   "mimetype": "text/x-python",
   "name": "python",
   "nbconvert_exporter": "python",
   "pygments_lexer": "ipython3",
   "version": "3.12.0"
  }
 },
 "nbformat": 4,
 "nbformat_minor": 5
}
